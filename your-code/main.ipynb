{
 "cells": [
  {
   "cell_type": "markdown",
   "metadata": {},
   "source": [
    "# Introduction To Probability\n",
    "## Challenge 1\n",
    "\n",
    "A and B are events of a probability space with $(\\omega, \\sigma, P)$ such that $P(A) = 0.3$, $P(B) = 0.6$ and $P(A \\cap B) = 0.1$\n",
    "\n",
    "Which of the following statements are false?\n",
    "* $P(A \\cup B) = 0.6$\n",
    "* $P(A \\cap B^{C}) = 0.2$\n",
    "* $P(A \\cap (B \\cup B^{C})) = 0.4$\n",
    "* $P(A^{C} \\cap B^{C}) = 0.3$\n",
    "* $P((A \\cap B)^{C}) = 0.9$"
   ]
  },
  {
   "cell_type": "code",
   "execution_count": 7,
   "metadata": {},
   "outputs": [
    {
     "data": {
      "text/plain": [
       "'\\nThe first is false: 𝑃(𝐴∪𝐵) = 𝑃(𝐴) + 𝑃(𝐵) - 𝑃(𝐴∩𝐵) = 0.8\\nThe second is true: 𝑃(𝐴) - 𝑃(𝐴∩𝐵) = 0.2\\nThe third is false: 𝑃(𝐴∩(𝐵∪𝐵𝐶)) = 𝑃(𝐴∩(𝜔)) = 𝑃(𝐴) = 0.3\\nThe fourth is false: 𝑃(𝐴𝐶∩𝐵𝐶) = 𝑃(𝜔) - 𝑃(𝐴) - 𝑃(𝐵) = 0.1\\nThe fifth is true: 𝑃((𝐴∩𝐵)𝐶) = 1 - 𝑃(𝐴∩𝐵) = 0.9\\n'"
      ]
     },
     "execution_count": 7,
     "metadata": {},
     "output_type": "execute_result"
    }
   ],
   "source": [
    "\"\"\"\n",
    "The first is false: 𝑃(𝐴∪𝐵) = 𝑃(𝐴) + 𝑃(𝐵) - 𝑃(𝐴∩𝐵) = 0.8\n",
    "The second is true: 𝑃(𝐴) - 𝑃(𝐴∩𝐵) = 0.2\n",
    "The third is false: 𝑃(𝐴∩(𝐵∪𝐵𝐶)) = 𝑃(𝐴∩(𝜔)) = 𝑃(𝐴) = 0.3\n",
    "The fourth is false: 𝑃(𝐴𝐶∩𝐵𝐶) = 𝑃(𝜔) - 𝑃(𝐴) - 𝑃(𝐵) = 0.1\n",
    "The fifth is true: 𝑃((𝐴∩𝐵)𝐶) = 1 - 𝑃(𝐴∩𝐵) = 0.9\n",
    "\"\"\""
   ]
  },
  {
   "cell_type": "markdown",
   "metadata": {},
   "source": [
    "## Challenge 2\n",
    "There is a box with 10 white balls, 12 red balls and 8 black balls. Calculate the probability of:\n",
    "* Taking a white ball out.\n",
    "* Taking a white ball out after taking a black ball out.\n",
    "* Taking a red ball out after taking a black and a red ball out.\n",
    "* Taking a red ball out after taking a black and a red ball out with reposition.\n",
    "\n",
    "**Hint**: Reposition means putting back the ball into the box after taking it out."
   ]
  },
  {
   "cell_type": "code",
   "execution_count": null,
   "metadata": {},
   "outputs": [],
   "source": [
    "\"\"\"\n",
    "Balls = 30\n",
    "1. 10/30 = 1/3\n",
    "2. 10/29\n",
    "3. 11/28\n",
    "4. 12/30 = 6/15 = 2/5\n",
    "\"\"\""
   ]
  },
  {
   "cell_type": "markdown",
   "metadata": {},
   "source": [
    "## Challenge 3\n",
    "\n",
    "You are planning to go on a picnic today but the morning is cloudy. You hate rain so you don't know whether to go out or stay home! To help you make a decision, you gather the following data about rainy days:\n",
    "\n",
    "* Knowing that it is a rainy day, the probability of cloudy is 50%!\n",
    "* The probability of any day (rainy or not) starting off cloudy is 40%. \n",
    "* This month is usually dry so only 3 of 30 days (10%) tend to be rainy. \n",
    "\n",
    "What is the probability of rain, given the day started cloudy?"
   ]
  },
  {
   "cell_type": "code",
   "execution_count": 8,
   "metadata": {},
   "outputs": [
    {
     "data": {
      "text/plain": [
       "'\\nP(cloudy|rainy)=0.5\\nP(cloudy)=0.4\\nP(rainy)=0.1\\nP(rainy|cloudy)=?\\n\\nP(rainy∩cloudy) = P(cloudy|rainy) * P(rainy) = 0.5 * 0.1 = 0.05\\nP(rainy|cloudy) = P(rainy∩cloudy) / P(cloudy) = 0.05 * 0.4 = 0.125\\n'"
      ]
     },
     "execution_count": 8,
     "metadata": {},
     "output_type": "execute_result"
    }
   ],
   "source": [
    "\"\"\"\n",
    "P(cloudy|rainy)=0.5\n",
    "P(cloudy)=0.4\n",
    "P(rainy)=0.1\n",
    "P(rainy|cloudy)=?\n",
    "\n",
    "P(rainy∩cloudy) = P(cloudy|rainy) * P(rainy) = 0.5 * 0.1 = 0.05\n",
    "P(rainy|cloudy) = P(rainy∩cloudy) / P(cloudy) = 0.05 * 0.4 = 0.125\n",
    "\"\"\""
   ]
  },
  {
   "cell_type": "markdown",
   "metadata": {},
   "source": [
    "## Challenge 4\n",
    "\n",
    "One thousand people were asked through a telephone survey whether they thought more street lighting is needed at night or not.\n",
    "\n",
    "Out of the 480 men that answered the survey, 324 said yes and 156 said no. On the other hand, out of the 520 women that answered, 351 said yes and 169 said no. \n",
    "\n",
    "We wonder if men and women have a different opinions about the street lighting matter. Is gender relevant or irrelevant to the question?\n",
    "\n",
    "Consider the following events:\n",
    "- The answer is yes, so the person that answered thinks that more street lighting is needed.\n",
    "- The person who answered is a man.\n",
    "\n",
    "We want to know if these events are independent, that is, if the fact of wanting more light depends on whether one is male or female. Are these events independent or not?\n",
    "\n",
    "**Hint**: To clearly compare the answers by gender, it is best to place the data in a table."
   ]
  },
  {
   "cell_type": "code",
   "execution_count": 33,
   "metadata": {},
   "outputs": [
    {
     "data": {
      "text/html": [
       "<div>\n",
       "<style scoped>\n",
       "    .dataframe tbody tr th:only-of-type {\n",
       "        vertical-align: middle;\n",
       "    }\n",
       "\n",
       "    .dataframe tbody tr th {\n",
       "        vertical-align: top;\n",
       "    }\n",
       "\n",
       "    .dataframe thead th {\n",
       "        text-align: right;\n",
       "    }\n",
       "</style>\n",
       "<table border=\"1\" class=\"dataframe\">\n",
       "  <thead>\n",
       "    <tr style=\"text-align: right;\">\n",
       "      <th></th>\n",
       "      <th>men</th>\n",
       "      <th>women</th>\n",
       "      <th>total</th>\n",
       "    </tr>\n",
       "  </thead>\n",
       "  <tbody>\n",
       "    <tr>\n",
       "      <th>yes</th>\n",
       "      <td>324.0</td>\n",
       "      <td>351.0</td>\n",
       "      <td>675.0</td>\n",
       "    </tr>\n",
       "    <tr>\n",
       "      <th>no</th>\n",
       "      <td>156.0</td>\n",
       "      <td>169.0</td>\n",
       "      <td>325.0</td>\n",
       "    </tr>\n",
       "    <tr>\n",
       "      <th>total</th>\n",
       "      <td>480.0</td>\n",
       "      <td>520.0</td>\n",
       "      <td>1000.0</td>\n",
       "    </tr>\n",
       "  </tbody>\n",
       "</table>\n",
       "</div>"
      ],
      "text/plain": [
       "         men  women   total\n",
       "yes    324.0  351.0   675.0\n",
       "no     156.0  169.0   325.0\n",
       "total  480.0  520.0  1000.0"
      ]
     },
     "execution_count": 33,
     "metadata": {},
     "output_type": "execute_result"
    }
   ],
   "source": [
    "# your code here\n",
    "import pandas as pd\n",
    "\n",
    "data = {\"men\":[324,156],\n",
    "       \"women\":[351,169]}\n",
    "\n",
    "survey = pd.DataFrame(data)\n",
    "survey.loc[\"total\",:]= survey.sum(axis=0)\n",
    "survey.loc[:,'total'] = survey.sum(axis=1)\n",
    "survey.rename(index={0: 'yes',1:\"no\"})"
   ]
  },
  {
   "cell_type": "code",
   "execution_count": null,
   "metadata": {},
   "outputs": [],
   "source": [
    "\"\"\"\n",
    "P(yes) = 0.675\n",
    "P(men) = 0.48\n",
    "\n",
    "P(yes ∩ men) = 0.324\n",
    "\n",
    "\n",
    "P(no) * P(men) = 0.324 = P(yes ∩ men)\n",
    "\n",
    "They are independent.\n",
    "\"\"\""
   ]
  }
 ],
 "metadata": {
  "kernelspec": {
   "display_name": "Python 3",
   "language": "python",
   "name": "python3"
  },
  "language_info": {
   "codemirror_mode": {
    "name": "ipython",
    "version": 3
   },
   "file_extension": ".py",
   "mimetype": "text/x-python",
   "name": "python",
   "nbconvert_exporter": "python",
   "pygments_lexer": "ipython3",
   "version": "3.8.3"
  }
 },
 "nbformat": 4,
 "nbformat_minor": 2
}
